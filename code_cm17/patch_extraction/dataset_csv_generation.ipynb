{
 "cells": [
  {
   "cell_type": "code",
   "execution_count": 11,
   "metadata": {
    "ExecuteTime": {
     "end_time": "2019-08-17T08:58:26.998069Z",
     "start_time": "2019-08-17T08:58:26.992849Z"
    }
   },
   "outputs": [],
   "source": [
    "import os\n",
    "import logging\n",
    "import time\n",
    "import glob\n",
    "from shutil import copyfile\n",
    "from multiprocessing import Pool, Value, Lock\n",
    "import openslide\n",
    "from pathlib import Path\n",
    "import matplotlib.pyplot as plt\n",
    "import numpy as np\n",
    "import scipy.misc\n",
    "import pandas as pd\n",
    "import logging\n",
    "import time\n",
    "import glob\n",
    "from shutil import copyfile\n",
    "\n",
    "# Importing defaultdict \n",
    "from collections import defaultdict\n",
    "from sklearn.model_selection import train_test_split\n",
    "from sklearn.model_selection import StratifiedKFold, KFold\n",
    "from operator import itemgetter "
   ]
  },
  {
   "cell_type": "code",
   "execution_count": 18,
   "metadata": {},
   "outputs": [],
   "source": [
    "ROOT_PATH = '/media/mak/mirlproject1'\n",
    "# ROOT_PATH = '/media/balaji/CamelyonProject/CAMELYON_DATASET'\n",
    "\n",
    "# Camelyon 2016\n",
    "train_tif_cm16_path = ROOT_PATH+'/CAMELYON16/TrainingData/normal_tumor'\n",
    "train_xml_cm16_path = ROOT_PATH+'/CAMELYON16/TrainingData/lesion_annotations'\n",
    "train_mask_cm16_path = ROOT_PATH+'/CAMELYON16/TrainingData/lesion_masks'\n",
    "\n",
    "test_tif_cm16_path = ROOT_PATH+'/CAMELYON16/Testset/Images'\n",
    "test_xml_cm16_path = ROOT_PATH+'/CAMELYON16/Testset/lesion_annotations'\n",
    "test_mask_cm16_path = ROOT_PATH+'/CAMELYON16/Testset/Backup/Masks/tif_files'\n",
    "test_reference_cm16_path = ROOT_PATH+'/CAMELYON16/Testset/reference.csv'"
   ]
  },
  {
   "cell_type": "code",
   "execution_count": 19,
   "metadata": {},
   "outputs": [],
   "source": [
    "# Non-exhaustive Annotations of Camelyon16\n",
    "# 'tumor_079': Blurred tumor region is not annotated.\n",
    "# 'tumor_092': Blurred tumor region on the adjacent tissue is not annotated.\n",
    "# TODOs to check:\n",
    "# test_049: Duplicate slide.\n",
    "# test_114: Does not have exhaustive annotations.\n",
    "train_tumor_nea_file_list = ['Tumor_010.tif','Tumor_015.tif','Tumor_018.tif','Tumor_020.tif',\n",
    "                             'Tumor_025.tif','Tumor_029.tif','Tumor_033.tif','Tumor_034.tif',\n",
    "                             'Tumor_044.tif','Tumor_046.tif','Tumor_051.tif','Tumor_054.tif',\n",
    "                             'Tumor_055.tif','Tumor_056.tif','Tumor_067.tif','Tumor_079.tif',\n",
    "                             'Tumor_085.tif','Tumor_092.tif','Tumor_095.tif','Tumor_110.tif']\n",
    "\n",
    "test_tumor_nea_file_list = ['Test_049.tif','Test_114.tif']"
   ]
  },
  {
   "cell_type": "code",
   "execution_count": 20,
   "metadata": {},
   "outputs": [],
   "source": [
    "# List of CM17 training tumor cases with annotation\n",
    "train_tumor_cm17_annotated_file_list = ['patient_024_node_1_mask.tif', 'patient_052_node_1_mask.tif',\n",
    "                              'patient_004_node_4_mask.tif', 'patient_009_node_1_mask.tif',\n",
    "                              'patient_010_node_4_mask.tif', 'patient_012_node_0_mask.tif',\n",
    "                              'patient_015_node_1_mask.tif', 'patient_015_node_2_mask.tif', \n",
    "                              'patient_016_node_1_mask.tif', 'patient_017_node_1_mask.tif', \n",
    "                              'patient_017_node_2_mask.tif', 'patient_017_node_4_mask.tif', \n",
    "                              'patient_020_node_2_mask.tif', 'patient_020_node_4_mask.tif', \n",
    "                              'patient_021_node_3_mask.tif', 'patient_022_node_4_mask.tif',\n",
    "                              'patient_024_node_2_mask.tif', 'patient_034_node_3_mask.tif', \n",
    "                              'patient_036_node_3_mask.tif', 'patient_038_node_2_mask.tif', \n",
    "                              'patient_039_node_1_mask.tif', 'patient_040_node_2_mask.tif', \n",
    "                              'patient_041_node_0_mask.tif', 'patient_042_node_3_mask.tif', \n",
    "                              'patient_044_node_4_mask.tif', 'patient_045_node_1_mask.tif', \n",
    "                              'patient_046_node_3_mask.tif', 'patient_046_node_4_mask.tif', \n",
    "                              'patient_048_node_1_mask.tif', 'patient_051_node_2_mask.tif', \n",
    "                              'patient_060_node_3_mask.tif', 'patient_061_node_4_mask.tif',\n",
    "                              'patient_062_node_2_mask.tif', 'patient_064_node_0_mask.tif', \n",
    "                              'patient_066_node_2_mask.tif', 'patient_067_node_4_mask.tif',\n",
    "                              'patient_068_node_1_mask.tif', 'patient_072_node_0_mask.tif',\n",
    "                              'patient_073_node_1_mask.tif', 'patient_075_node_4_mask.tif', \n",
    "                              'patient_080_node_1_mask.tif', 'patient_081_node_4_mask.tif',\n",
    "                              'patient_086_node_0_mask.tif', 'patient_086_node_4_mask.tif', \n",
    "                              'patient_087_node_0_mask.tif', 'patient_088_node_1_mask.tif',\n",
    "                              'patient_089_node_3_mask.tif', 'patient_092_node_1_mask.tif', \n",
    "                              'patient_096_node_0_mask.tif', 'patient_099_node_4_mask.tif']"
   ]
  },
  {
   "cell_type": "code",
   "execution_count": 21,
   "metadata": {},
   "outputs": [],
   "source": [
    "# Camelyon 2017\n",
    "train_tif_cm17_path = ROOT_PATH+'/CAMELYON17/training/dataset'\n",
    "train_xml_cm17_path = ROOT_PATH+'/CAMELYON17/training/groundtruth/lesion_annotations/XML'\n",
    "train_mask_cm17_path = ROOT_PATH+'/CAMELYON17/training/groundtruth/lesion_annotations/Mask'\n",
    "# train_stage_labels_path = ROOT_PATH+'/CAMELYON17/training/groundtruth/stage_labels.csv'\n",
    "train_stage_labels_path = '/media/mak/mirlproject1'+'/CAMELYON17/training/groundtruth/stage_labels.csv'\n"
   ]
  },
  {
   "cell_type": "code",
   "execution_count": 22,
   "metadata": {},
   "outputs": [],
   "source": [
    "# Save Path\n",
    "save_path = '../../datasetgen'\n",
    "if not os.path.exists(save_path):\n",
    "    os.makedirs(save_path)"
   ]
  },
  {
   "cell_type": "markdown",
   "metadata": {},
   "source": [
    "### CM17 CV SPLITs"
   ]
  },
  {
   "cell_type": "code",
   "execution_count": 23,
   "metadata": {},
   "outputs": [
    {
     "name": "stdout",
     "output_type": "stream",
     "text": [
      "Total_number of CM17 cases with annotations 368\n"
     ]
    }
   ],
   "source": [
    "# Collect all CM17 WSI_paths\n",
    "cm17_train_stage_labels_df = pd.read_csv(train_stage_labels_path)\n",
    "# print (xml_file_list)\n",
    "negative_list = []\n",
    "itc_list = []\n",
    "micro_list = []\n",
    "macro_list = []\n",
    "\n",
    "negative_list_mask = []\n",
    "itc_list_mask = []\n",
    "micro_list_mask = []\n",
    "macro_list_mask = []\n",
    "\n",
    "class_mapping = {'negative': 0, 'micro':1, 'macro':2, 'itc':3}\n",
    "\n",
    "for index, row in cm17_train_stage_labels_df.iterrows():\n",
    "    patient_name = row[\"patient\"].split('.')[0]\n",
    "    center_folder = 'center_'+str(int(patient_name.split('_')[1])//20)        \n",
    "    if row[\"stage\"] == 'negative':\n",
    "        negative_list.append(os.path.join(train_tif_cm17_path, center_folder, row[\"patient\"]))\n",
    "        negative_list_mask.append(0)\n",
    "\n",
    "    mask_file_name = patient_name +'_mask.tif'        \n",
    "    if mask_file_name in train_tumor_cm17_annotated_file_list:\n",
    "#         print (check_name[:11])\n",
    "        if row[\"stage\"] == 'itc':\n",
    "            itc_list.append(os.path.join(train_tif_cm17_path, center_folder, row[\"patient\"]))\n",
    "            itc_list_mask.append(os.path.join(train_mask_cm17_path, mask_file_name))\n",
    "        elif row[\"stage\"] == 'micro':\n",
    "            micro_list.append(os.path.join(train_tif_cm17_path, center_folder, row[\"patient\"]))\n",
    "            micro_list_mask.append(os.path.join(train_mask_cm17_path, mask_file_name))\n",
    "        elif row[\"stage\"] == 'macro':\n",
    "            macro_list.append(os.path.join(train_tif_cm17_path, center_folder, row[\"patient\"]))                    \n",
    "            macro_list_mask.append(os.path.join(train_mask_cm17_path, mask_file_name))                    \n",
    "\n",
    "cm17_train_patient_list = negative_list + micro_list + macro_list + itc_list\n",
    "cm17_train_patient_mask_list = negative_list_mask + micro_list_mask + macro_list_mask + itc_list_mask\n",
    "cm17_patient_label_list = len(negative_list)*[0] + len(micro_list)*[1] + len(macro_list)*[2]  + len(itc_list)*[3]\n",
    "print ('Total_number of CM17 cases with annotations', len(cm17_patient_label_list))"
   ]
  },
  {
   "cell_type": "code",
   "execution_count": 24,
   "metadata": {},
   "outputs": [],
   "source": [
    "# # print(cm17_train_patient_list)\n",
    "# # print(cm17_patient_label_list)\n",
    "# # print(patient_dict)\n",
    "# X_train, X_test, y_train, y_test = train_test_split(cm17_train_patient_list, cm17_patient_label_list,\\\n",
    "#                                                     test_size=0.3, random_state=0, stratify=patient_label_list)\n",
    "\n",
    "# train_df = pd.DataFrame({'image':X_train,'stage':y_train})\n",
    "# train_df.to_csv(os.path.join(save_path, 'camelyon17_train_dataset.csv'), index=False)\n",
    "# valid_df = pd.DataFrame({'image':X_test,'stage':y_test})\n",
    "# valid_df.to_csv(os.path.join(save_path, 'camelyon17_valid_dataset.csv'), index=False)"
   ]
  },
  {
   "cell_type": "code",
   "execution_count": 25,
   "metadata": {},
   "outputs": [],
   "source": [
    "SPLITS = 3\n",
    "cm17_save_dir = os.path.join(save_path, 'cm17_cross_val_splits')\n",
    "if not os.path.exists(cm17_save_dir):\n",
    "    os.makedirs(cm17_save_dir)\n",
    "    \n",
    "skf = StratifiedKFold(n_splits=SPLITS)\n",
    "# skf.get_n_splits(cm17_train_patient_list, cm17_patient_label_list)\n",
    "counter = 0\n",
    "for train_index, test_index in skf.split(cm17_train_patient_list, cm17_patient_label_list):\n",
    "#     print(\"TRAIN:\", train_index, \"TEST:\", test_index)    \n",
    "    image_train, image_test = itemgetter(*train_index)(cm17_train_patient_list), itemgetter(*test_index)(cm17_train_patient_list) \n",
    "    label_train, label_test = itemgetter(*train_index)(cm17_patient_label_list), itemgetter(*test_index)(cm17_patient_label_list) \n",
    "    mask_train, mask_test = itemgetter(*train_index)(cm17_train_patient_mask_list), itemgetter(*test_index)(cm17_train_patient_mask_list) \n",
    "    \n",
    "    train_data = {'Image_Path': image_train, 'Label': label_train, 'Mask_Path': mask_train}\n",
    "    df_train = pd.DataFrame(train_data)\n",
    "    # print (df_train)\n",
    "    df_train.to_csv(os.path.join(cm17_save_dir, 'training_fold_{0}.csv'.format(counter)), index = False)\n",
    "    validation_data = {'Image_Path': image_test, 'Label': label_test, 'Mask_Path': mask_test}\n",
    "    df_validation = pd.DataFrame(validation_data)\n",
    "    df_validation.to_csv(os.path.join(cm17_save_dir, 'validation_fold_{0}.csv'.format(counter)), index = False)\n",
    "    # print (df_validation)\n",
    "    counter += 1"
   ]
  },
  {
   "cell_type": "markdown",
   "metadata": {},
   "source": [
    "### CM16 CV SPLITs"
   ]
  },
  {
   "cell_type": "code",
   "execution_count": 26,
   "metadata": {},
   "outputs": [
    {
     "name": "stdout",
     "output_type": "stream",
     "text": [
      "Total_number of CM16 training cases with annotations 250\n"
     ]
    }
   ],
   "source": [
    "# Collect all CM16 Training WSI_paths\n",
    "cm16_train_file_list = list(set(os.listdir(train_tif_cm16_path)) - set(train_tumor_nea_file_list))\n",
    "cm16_train_mask_file_list = os.listdir(train_mask_cm16_path)\n",
    "cm16_test_mask_file_list = os.listdir(test_mask_cm16_path)\n",
    "\n",
    "normal_list = []\n",
    "tumor_list = []\n",
    "\n",
    "normal_mask_list = []\n",
    "tumor_mask_list = []\n",
    "\n",
    "for file in cm16_train_file_list:\n",
    "    mask_file = file.split('.')[0]+'_Mask.tif'\n",
    "    if mask_file in cm16_train_mask_file_list:\n",
    "        tumor_list.append(os.path.join(train_tif_cm16_path, file))\n",
    "        tumor_mask_list.append(os.path.join(train_mask_cm16_path, mask_file))\n",
    "    else:\n",
    "        normal_list.append(os.path.join(train_tif_cm16_path, file))\n",
    "        normal_mask_list.append(0)\n",
    "        \n",
    "cm16_train_patient_list = normal_list + tumor_list\n",
    "cm16_train_patient_mask_list = normal_mask_list + tumor_mask_list\n",
    "cm16_train_patient_label_list = len(normal_list)*[0] + len(tumor_list)*[1]\n",
    "print ('Total_number of CM16 training cases with annotations', len(cm16_train_patient_label_list))"
   ]
  },
  {
   "cell_type": "code",
   "execution_count": 27,
   "metadata": {},
   "outputs": [],
   "source": [
    "SPLITS = 3\n",
    "cm16_train_save_dir = os.path.join(save_path, 'cm16_train_cross_val_splits')\n",
    "if not os.path.exists(cm16_train_save_dir):\n",
    "    os.makedirs(cm16_train_save_dir)\n",
    "    \n",
    "skf = StratifiedKFold(n_splits=SPLITS)\n",
    "# skf.get_n_splits(cm16_train_patient_list, cm16_train_patient_label_list)\n",
    "counter = 0\n",
    "for train_index, test_index in skf.split(cm16_train_patient_list, cm16_train_patient_label_list):\n",
    "#     print(\"TRAIN:\", train_index, \"TEST:\", test_index)    \n",
    "    image_train, image_test = itemgetter(*train_index)(cm16_train_patient_list), itemgetter(*test_index)(cm16_train_patient_list) \n",
    "    label_train, label_test = itemgetter(*train_index)(cm16_train_patient_label_list), itemgetter(*test_index)(cm16_train_patient_label_list) \n",
    "    mask_train, mask_test = itemgetter(*train_index)(cm16_train_patient_mask_list), itemgetter(*test_index)(cm16_train_patient_mask_list) \n",
    "    \n",
    "    train_data = {'Image_Path': image_train, 'Label': label_train, 'Mask_Path': mask_train}\n",
    "    df_train = pd.DataFrame(train_data)\n",
    "    # print (df_train)\n",
    "    df_train.to_csv(os.path.join(cm16_train_save_dir, 'training_fold_{0}.csv'.format(counter)), index = False)\n",
    "    validation_data = {'Image_Path': image_test, 'Label': label_test, 'Mask_Path': mask_test}\n",
    "    df_validation = pd.DataFrame(validation_data)\n",
    "    df_validation.to_csv(os.path.join(cm16_train_save_dir, 'validation_fold_{0}.csv'.format(counter)), index = False)\n",
    "    # print (df_validation)\n",
    "    counter += 1"
   ]
  },
  {
   "cell_type": "code",
   "execution_count": 28,
   "metadata": {},
   "outputs": [
    {
     "name": "stdout",
     "output_type": "stream",
     "text": [
      "Total_number of CM16 test cases with annotations 128\n"
     ]
    }
   ],
   "source": [
    "# Collect all CM16 Testing WSI_paths\n",
    "cm16_test_stage_labels_df = pd.read_csv(test_reference_cm16_path)\n",
    "cm16_test_file_list = list(set(os.listdir(test_tif_cm16_path)) - set(test_tumor_nea_file_list))\n",
    "cm16_test_mask_file_list = os.listdir(test_mask_cm16_path)\n",
    "\n",
    "normal_list = []\n",
    "tumor_list = []\n",
    "\n",
    "normal_mask_list = []\n",
    "tumor_mask_list = []\n",
    "\n",
    "for file in cm16_test_file_list:\n",
    "    mask_file = file.split('.')[0]+'_Mask.tif'\n",
    "    if mask_file in cm16_test_mask_file_list:\n",
    "        tumor_list.append(os.path.join(test_tif_cm16_path, file))\n",
    "        tumor_mask_list.append(os.path.join(test_mask_cm16_path, mask_file))\n",
    "    else:\n",
    "        normal_list.append(os.path.join(test_tif_cm16_path, file))\n",
    "        normal_mask_list.append(0)\n",
    "        \n",
    "cm16_test_patient_list = normal_list + tumor_list\n",
    "cm16_test_patient_mask_list = normal_mask_list + tumor_mask_list\n",
    "cm16_test_patient_label_list = len(normal_list)*[0] + len(tumor_list)*[1]\n",
    "print ('Total_number of CM16 test cases with annotations', len(cm16_test_patient_label_list))"
   ]
  },
  {
   "cell_type": "markdown",
   "metadata": {},
   "source": [
    "###  CM16 Test SPLITS"
   ]
  },
  {
   "cell_type": "code",
   "execution_count": 29,
   "metadata": {},
   "outputs": [],
   "source": [
    "SPLITS = 3\n",
    "cm16_test_save_dir = os.path.join(save_path, 'cm16_test_cross_val_splits')\n",
    "if not os.path.exists(cm16_test_save_dir):\n",
    "    os.makedirs(cm16_test_save_dir)\n",
    "    \n",
    "skf = StratifiedKFold(n_splits=SPLITS)\n",
    "# skf.get_n_splits(cm16_train_patient_list, cm16_train_patient_label_list)\n",
    "counter = 0\n",
    "for train_index, test_index in skf.split(cm16_test_patient_list, cm16_test_patient_label_list):\n",
    "#     print(\"TRAIN:\", train_index, \"TEST:\", test_index)    \n",
    "    image_train, image_test = itemgetter(*train_index)(cm16_test_patient_list), itemgetter(*test_index)(cm16_test_patient_list) \n",
    "    label_train, label_test = itemgetter(*train_index)(cm16_test_patient_label_list), itemgetter(*test_index)(cm16_test_patient_label_list) \n",
    "    mask_train, mask_test = itemgetter(*train_index)(cm16_test_patient_mask_list), itemgetter(*test_index)(cm16_test_patient_mask_list) \n",
    "    \n",
    "    train_data = {'Image_Path': image_train, 'Label': label_train, 'Mask_Path': mask_train}\n",
    "    df_train = pd.DataFrame(train_data)\n",
    "    # print (df_train)\n",
    "    df_train.to_csv(os.path.join(cm16_test_save_dir, 'training_fold_{0}.csv'.format(counter)), index = False)\n",
    "    validation_data = {'Image_Path': image_test, 'Label': label_test, 'Mask_Path': mask_test}\n",
    "    df_validation = pd.DataFrame(validation_data)\n",
    "    df_validation.to_csv(os.path.join(cm16_test_save_dir, 'validation_fold_{0}.csv'.format(counter)), index = False)\n",
    "    # print (df_validation)\n",
    "    counter += 1"
   ]
  },
  {
   "cell_type": "markdown",
   "metadata": {},
   "source": [
    "### Combine CM16 Train and CM17 Train"
   ]
  },
  {
   "cell_type": "code",
   "execution_count": 14,
   "metadata": {},
   "outputs": [
    {
     "name": "stdout",
     "output_type": "stream",
     "text": [
      "618\n"
     ]
    }
   ],
   "source": [
    "cm16_17_train_save_dir = os.path.join(save_path, 'cm16_17_train_cross_val_splits')\n",
    "if not os.path.exists(cm16_17_train_save_dir):\n",
    "    os.makedirs(cm16_17_train_save_dir)\n",
    "    \n",
    "cm16_17_train_patient_list = cm17_train_patient_list + cm16_train_patient_list\n",
    "cm16_17_train_patient_mask_list = cm17_train_patient_mask_list + cm16_train_patient_mask_list\n",
    "cm16_17_train_patient_label_list = cm17_patient_label_list + cm16_train_patient_label_list\n",
    "\n",
    "print(len(cm16_17_train_patient_list))\n",
    "\n",
    "SPLITS = 3\n",
    "    \n",
    "skf = StratifiedKFold(n_splits=SPLITS)\n",
    "counter = 0\n",
    "for train_index, test_index in skf.split(cm16_17_train_patient_list, cm16_17_train_patient_label_list):\n",
    "#     print(\"TRAIN:\", train_index, \"TEST:\", test_index)    \n",
    "    image_train, image_test = itemgetter(*train_index)(cm16_17_train_patient_list), itemgetter(*test_index)(cm16_17_train_patient_list) \n",
    "    label_train, label_test = itemgetter(*train_index)(cm16_17_train_patient_label_list), itemgetter(*test_index)(cm16_17_train_patient_label_list) \n",
    "    mask_train, mask_test = itemgetter(*train_index)(cm16_17_train_patient_mask_list), itemgetter(*test_index)(cm16_17_train_patient_mask_list) \n",
    "    \n",
    "    train_data = {'Image_Path': image_train, 'Label': label_train, 'Mask_path': mask_train}\n",
    "    df_train = pd.DataFrame(train_data)\n",
    "    # print (df_train)\n",
    "    df_train.to_csv(os.path.join(cm16_17_train_save_dir, 'training_fold_{0}.csv'.format(counter)), index = False)\n",
    "    validation_data = {'Image_Path': image_test, 'Label': label_test, 'Mask_Path': mask_test}\n",
    "    df_validation = pd.DataFrame(validation_data)\n",
    "    df_validation.to_csv(os.path.join(cm16_17_train_save_dir, 'validation_fold_{0}.csv'.format(counter)), index = False)\n",
    "    # print (df_validation)\n",
    "    counter += 1"
   ]
  },
  {
   "cell_type": "markdown",
   "metadata": {},
   "source": [
    "### Combine CM16 Train & CM16 Test"
   ]
  },
  {
   "cell_type": "code",
   "execution_count": 15,
   "metadata": {},
   "outputs": [
    {
     "name": "stdout",
     "output_type": "stream",
     "text": [
      "378\n"
     ]
    }
   ],
   "source": [
    "cm16_train_test_save_dir = os.path.join(save_path, 'cm16_train_test_cross_val_splits')\n",
    "if not os.path.exists(cm16_train_test_save_dir):\n",
    "    os.makedirs(cm16_train_test_save_dir)\n",
    "    \n",
    "cm16_train_test_patient_list = cm16_train_patient_list + cm16_test_patient_list\n",
    "cm16_train_test_mask_list = cm16_train_patient_mask_list + cm16_test_patient_mask_list\n",
    "cm16_train_test_label_list = cm16_train_patient_label_list + cm16_test_patient_label_list\n",
    "\n",
    "print(len(cm16_train_test_patient_list))\n",
    "\n",
    "SPLITS = 3\n",
    "    \n",
    "skf = StratifiedKFold(n_splits=SPLITS)\n",
    "counter = 0\n",
    "for train_index, test_index in skf.split(cm16_train_test_patient_list, cm16_train_test_label_list):\n",
    "#     print(\"TRAIN:\", train_index, \"TEST:\", test_index)    \n",
    "    image_train, image_test = itemgetter(*train_index)(cm16_train_test_patient_list), itemgetter(*test_index)(cm16_train_test_patient_list) \n",
    "    label_train, label_test = itemgetter(*train_index)(cm16_train_test_label_list), itemgetter(*test_index)(cm16_train_test_label_list) \n",
    "    mask_train, mask_test = itemgetter(*train_index)(cm16_train_test_mask_list), itemgetter(*test_index)(cm16_train_test_mask_list) \n",
    "    \n",
    "    train_data = {'Image_Path': image_train, 'Label': label_train, 'Mask_Path': mask_train}\n",
    "    df_train = pd.DataFrame(train_data)\n",
    "    # print (df_train)\n",
    "    df_train.to_csv(os.path.join(cm16_train_test_save_dir, 'training_fold_{0}.csv'.format(counter)), index = False)\n",
    "    validation_data = {'Image_Path': image_test, 'Label': label_test, 'Mask_Path': mask_test}\n",
    "    df_validation = pd.DataFrame(validation_data)\n",
    "    df_validation.to_csv(os.path.join(cm16_train_test_save_dir, 'validation_fold_{0}.csv'.format(counter)), index = False)\n",
    "    # print (df_validation)\n",
    "    counter += 1"
   ]
  },
  {
   "cell_type": "markdown",
   "metadata": {},
   "source": [
    "### Combine CM16 Train & CM16 Test and CM17 Train"
   ]
  },
  {
   "cell_type": "code",
   "execution_count": 14,
   "metadata": {
    "ExecuteTime": {
     "end_time": "2019-08-17T09:00:55.934078Z",
     "start_time": "2019-08-17T09:00:55.871333Z"
    }
   },
   "outputs": [
    {
     "name": "stdout",
     "output_type": "stream",
     "text": [
      "50 50\n",
      "TRAIN: [10 11 12 13 14 15 16 17 18 19 20 21 22 23 24 25 26 27 28 29 30 31 32 33\n",
      " 34 35 36 37 38 39 40 41 42 43 44 45 46 47 48 49] TEST: [0 1 2 3 4 5 6 7 8 9]\n",
      "TRAIN: [ 0  1  2  3  4  5  6  7  8  9 20 21 22 23 24 25 26 27 28 29 30 31 32 33\n",
      " 34 35 36 37 38 39 40 41 42 43 44 45 46 47 48 49] TEST: [10 11 12 13 14 15 16 17 18 19]\n",
      "TRAIN: [ 0  1  2  3  4  5  6  7  8  9 10 11 12 13 14 15 16 17 18 19 30 31 32 33\n",
      " 34 35 36 37 38 39 40 41 42 43 44 45 46 47 48 49] TEST: [20 21 22 23 24 25 26 27 28 29]\n",
      "TRAIN: [ 0  1  2  3  4  5  6  7  8  9 10 11 12 13 14 15 16 17 18 19 20 21 22 23\n",
      " 24 25 26 27 28 29 40 41 42 43 44 45 46 47 48 49] TEST: [30 31 32 33 34 35 36 37 38 39]\n",
      "TRAIN: [ 0  1  2  3  4  5  6  7  8  9 10 11 12 13 14 15 16 17 18 19 20 21 22 23\n",
      " 24 25 26 27 28 29 30 31 32 33 34 35 36 37 38 39] TEST: [40 41 42 43 44 45 46 47 48 49]\n"
     ]
    }
   ],
   "source": [
    "save_path = '../../data/raw-data'\n",
    "tumor_type = 'whole'\n",
    "cm16_train_test_cm17_train_save_dir = os.path.join(save_path, 'train_cross_val_splits_%s'%(tumor_type))\n",
    "if not os.path.exists(cm16_train_test_cm17_train_save_dir):\n",
    "    os.makedirs(cm16_train_test_cm17_train_save_dir)\n",
    "    \n",
    "cm16_train_test_cm17_patient_list = glob.glob(os.path.join(save_path,'**','*.svs'),recursive=True)\n",
    "cm16_train_test_cm17_mask_list = glob.glob(os.path.join(save_path,'**','*%s*.tiff'%(tumor_type)),recursive=True)\n",
    "\n",
    "print(len(cm16_train_test_cm17_patient_list),len(cm16_train_test_cm17_mask_list))\n",
    "\n",
    "SPLITS =3\n",
    "    \n",
    "skf = KFold(n_splits=SPLITS)\n",
    "counter = 0\n",
    "for train_index, test_index in skf.split(cm16_train_test_cm17_patient_list, cm16_train_test_cm17_mask_list):\n",
    "    print(\"TRAIN:\", train_index, \"TEST:\", test_index)    \n",
    "    image_train, image_test = itemgetter(*train_index)(cm16_train_test_cm17_patient_list), itemgetter(*test_index)(cm16_train_test_cm17_patient_list) \n",
    "    mask_train, mask_test = itemgetter(*train_index)(cm16_train_test_cm17_mask_list), itemgetter(*test_index)(cm16_train_test_cm17_mask_list) \n",
    "    \n",
    "    train_data = {'Image_Path': image_train ,'Mask_Path': mask_train}\n",
    "    df_train = pd.DataFrame(train_data)\n",
    "    # print (df_train)\n",
    "    df_train.to_csv(os.path.join(cm16_train_test_cm17_train_save_dir, 'training_fold_{0}.csv'.format(counter)), index = False)\n",
    "    validation_data = {'Image_Path': image_test, 'Mask_Path': mask_test}\n",
    "    df_validation = pd.DataFrame(validation_data)\n",
    "    df_validation.to_csv(os.path.join(cm16_train_test_cm17_train_save_dir, 'validation_fold_{0}.csv'.format(counter)), index = False)\n",
    "    # print (df_validation)\n",
    "    counter += 1"
   ]
  },
  {
   "cell_type": "code",
   "execution_count": null,
   "metadata": {},
   "outputs": [],
   "source": []
  },
  {
   "cell_type": "code",
   "execution_count": null,
   "metadata": {},
   "outputs": [],
   "source": []
  },
  {
   "cell_type": "code",
   "execution_count": null,
   "metadata": {},
   "outputs": [],
   "source": []
  }
 ],
 "metadata": {
  "kernelspec": {
   "display_name": "Python 3",
   "language": "python",
   "name": "python3"
  },
  "language_info": {
   "codemirror_mode": {
    "name": "ipython",
    "version": 3
   },
   "file_extension": ".py",
   "mimetype": "text/x-python",
   "name": "python",
   "nbconvert_exporter": "python",
   "pygments_lexer": "ipython3",
   "version": "3.7.4"
  },
  "toc": {
   "base_numbering": 1,
   "nav_menu": {},
   "number_sections": true,
   "sideBar": true,
   "skip_h1_title": false,
   "title_cell": "Table of Contents",
   "title_sidebar": "Contents",
   "toc_cell": false,
   "toc_position": {},
   "toc_section_display": true,
   "toc_window_display": false
  }
 },
 "nbformat": 4,
 "nbformat_minor": 2
}
