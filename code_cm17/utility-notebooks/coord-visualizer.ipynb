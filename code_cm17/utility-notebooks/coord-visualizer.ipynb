{
 "cells": [
  {
   "cell_type": "code",
   "execution_count": null,
   "metadata": {
    "ExecuteTime": {
     "end_time": "2019-08-27T05:30:59.032669Z",
     "start_time": "2019-08-27T05:30:58.412520Z"
    }
   },
   "outputs": [],
   "source": [
    "import openslide\n",
    "import pandas as pd\n",
    "import matplotlib.pyplot as plt\n",
    "def imshow(*args,**kwargs):\n",
    "    \"\"\" Handy function to show multiple plots in on row, possibly with different cmaps and titles\n",
    "    Usage:\n",
    "    imshow(img1, title=\"myPlot\")\n",
    "    imshow(img1,img2, title=['title1','title2'])\n",
    "    imshow(img1,img2, cmap='hot')\n",
    "    imshow(img1,img2,cmap=['gray','Blues']) \"\"\"\n",
    "    cmap = kwargs.get('cmap', 'gray')\n",
    "    title= kwargs.get('title','')\n",
    "    axis_off = kwargs.get('axis_off','')\n",
    "    if len(args)==0:\n",
    "        raise ValueError(\"No images given to imshow\")\n",
    "    elif len(args)==1:\n",
    "        plt.title(title)\n",
    "        plt.imshow(args[0], interpolation='none')\n",
    "    else:\n",
    "        n=len(args)\n",
    "        if type(cmap)==str:\n",
    "            cmap = [cmap]*n\n",
    "        if type(title)==str:\n",
    "            title= [title]*n\n",
    "        plt.figure(figsize=(n*5,10))\n",
    "        for i in range(n):\n",
    "            plt.subplot(1,n,i+1)\n",
    "            plt.title(title[i])\n",
    "            plt.imshow(args[i], cmap[i])\n",
    "            if axis_off: \n",
    "              plt.axis('off')  \n",
    "    plt.show()"
   ]
  },
  {
   "cell_type": "code",
   "execution_count": null,
   "metadata": {
    "ExecuteTime": {
     "end_time": "2019-08-27T05:43:41.788595Z",
     "start_time": "2019-08-27T05:42:38.174879Z"
    },
    "scrolled": true
   },
   "outputs": [],
   "source": [
    "im_sz=512\n",
    "coord_path = []\n",
    "# coord_path.append('../../results/saved_models/incep_viable_80k/5fold_0/mined_points/normal_mined.txt')\n",
    "# coord_path.append('../../results/saved_models/incep_viable_80k/5fold_0/mined_points/normal_original.txt')\n",
    "coord_path.append('../../results/saved_models/incep_viable_80k/5fold_0/mined_points/tumor_mined.txt')\n",
    "coord_path.append('../../results/saved_models/incep_viable_80k/5fold_0/mined_points/tumor_original.txt')\n",
    "\n",
    "for i in range(len(coord_path)):\n",
    "    coord_path[i] = pd.read_csv(coord_path[i], names=['pid','mid','x','y','tf'])\n",
    "    \n",
    "for i in range(1000):\n",
    "    print('--'*20)\n",
    "    for c in coord_path:\n",
    "        row = c.iloc[i]\n",
    "        x,y = row['x'],row['y']\n",
    "        slide = openslide.OpenSlide(row['pid']).read_region((x,y),0,(im_sz,im_sz)).convert('RGB')\n",
    "        mask = np.array(openslide.OpenSlide(row['mid']).read_region((x,y),0,(im_sz,im_sz)).convert('L'))*255\n",
    "        imshow(slide,mask)"
   ]
  }
 ],
 "metadata": {
  "kernelspec": {
   "display_name": "Python 3",
   "language": "python",
   "name": "python3"
  },
  "language_info": {
   "codemirror_mode": {
    "name": "ipython",
    "version": 3
   },
   "file_extension": ".py",
   "mimetype": "text/x-python",
   "name": "python",
   "nbconvert_exporter": "python",
   "pygments_lexer": "ipython3",
   "version": "3.5.2"
  },
  "toc": {
   "base_numbering": 1,
   "nav_menu": {},
   "number_sections": true,
   "sideBar": true,
   "skip_h1_title": false,
   "title_cell": "Table of Contents",
   "title_sidebar": "Contents",
   "toc_cell": false,
   "toc_position": {},
   "toc_section_display": true,
   "toc_window_display": false
  },
  "varInspector": {
   "cols": {
    "lenName": 16,
    "lenType": 16,
    "lenVar": 40
   },
   "kernels_config": {
    "python": {
     "delete_cmd_postfix": "",
     "delete_cmd_prefix": "del ",
     "library": "var_list.py",
     "varRefreshCmd": "print(var_dic_list())"
    },
    "r": {
     "delete_cmd_postfix": ") ",
     "delete_cmd_prefix": "rm(",
     "library": "var_list.r",
     "varRefreshCmd": "cat(var_dic_list()) "
    }
   },
   "types_to_exclude": [
    "module",
    "function",
    "builtin_function_or_method",
    "instance",
    "_Feature"
   ],
   "window_display": false
  }
 },
 "nbformat": 4,
 "nbformat_minor": 2
}
