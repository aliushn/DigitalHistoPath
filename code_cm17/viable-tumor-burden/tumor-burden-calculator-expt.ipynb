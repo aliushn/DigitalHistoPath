{
 "cells": [
  {
   "cell_type": "code",
   "execution_count": null,
   "metadata": {
    "ExecuteTime": {
     "end_time": "2019-08-27T15:16:13.426130Z",
     "start_time": "2019-08-27T15:16:11.672115Z"
    }
   },
   "outputs": [],
   "source": [
    "import matplotlib.pyplot as plt\n",
    "from skimage.measure import find_contours, regionprops, label\n",
    "from skimage import io\n",
    "import cv2\n",
    "import numpy as np\n",
    "import skimage\n",
    "from skimage import measure\n",
    "print(skimage.__version__)\n",
    "from PIL import Image"
   ]
  },
  {
   "cell_type": "code",
   "execution_count": null,
   "metadata": {
    "ExecuteTime": {
     "end_time": "2019-08-27T15:16:13.449285Z",
     "start_time": "2019-08-27T15:16:13.434236Z"
    }
   },
   "outputs": [],
   "source": [
    " def imshow(*args,**kwargs):\n",
    "     \"\"\" Handy function to show multiple plots in on row, possibly with different cmaps and titles\n",
    "     Usage:\n",
    "     imshow(img1, title=\"myPlot\")\n",
    "     imshow(img1,img2, title=['title1','title2'])\n",
    "     imshow(img1,img2, cmap='hot')\n",
    "     imshow(img1,img2,cmap=['gray','Blues']) \"\"\"\n",
    "     cmap = kwargs.get('cmap', 'gray')\n",
    "     title= kwargs.get('title','')\n",
    "     axis_off = kwargs.get('axis_off','')\n",
    "     if len(args)==0:\n",
    "         raise ValueError(\"No images given to imshow\")\n",
    "     elif len(args)==1:\n",
    "         plt.title(title)\n",
    "         plt.imshow(args[0], interpolation='none')\n",
    "     else:\n",
    "         n=len(args)\n",
    "         if type(cmap)==str:\n",
    "             cmap = [cmap]*n\n",
    "         if type(title)==str:\n",
    "             title= [title]*n\n",
    "         plt.figure(figsize=(n*5,10))\n",
    "         for i in range(n):\n",
    "             plt.subplot(1,n,i+1)\n",
    "             plt.title(title[i])\n",
    "             plt.imshow(args[i], cmap[i])\n",
    "             if axis_off:\n",
    "               plt.axis('off')\n",
    "     plt.show()\n",
    "\n",
    "def TissueMaskGenerationPatch(patchRGB):\n",
    "    '''\n",
    "    Returns mask of tissue that obeys the threshold set by paip\n",
    "    '''\n",
    "    r = patchRGB[:,:,0] < 235\n",
    "    g = patchRGB[:,:,1] < 210\n",
    "    b = patchRGB[:,:,2] < 235\n",
    "    tissue_mask = np.logical_or(r,np.logical_or(g,b))\n",
    "    return tissue_mask "
   ]
  },
  {
   "cell_type": "code",
   "execution_count": null,
   "metadata": {
    "ExecuteTime": {
     "end_time": "2019-08-27T15:16:14.510236Z",
     "start_time": "2019-08-27T15:16:13.456871Z"
    }
   },
   "outputs": [],
   "source": [
    "img_paths = ['../../results/saved_imgs/val_7/ref_142.png']\n",
    "for img_path in img_paths:\n",
    "    img = io.imread(img_path)\n",
    "    _,w,_ = img.shape\n",
    "    w = w//4\n",
    "    viable_mask = np.average(img[:,w*3:w*4,:],axis=2)\n",
    "    slide_img = io.imread('../../results/saved_imgs/ref_imgs_pid/01_01_0083.png')[:,:2847,:]\n",
    "    whole_tum = np.average(io.imread('../../results/saved_imgs/ref_imgs_pid/01_01_0083.png')[:,5694:,:],axis=2)\n",
    "    kernel = np.ones((20, 20), dtype=np.uint8)\n",
    "    img = cv2.morphologyEx(img_raw, cv2.MORPH_OPEN, kernel)\n",
    "    kernel = np.ones((70, 70), dtype=np.uint8)\n",
    "    img = cv2.morphologyEx(img, cv2.MORPH_CLOSE, kernel)\n",
    "    img = np.uint8(img)\n",
    "    print(img.shape)\n",
    "    print(np.unique(img))\n",
    "    imshow(img_raw,img,slide_img,whole_tum)"
   ]
  },
  {
   "cell_type": "code",
   "execution_count": null,
   "metadata": {},
   "outputs": [],
   "source": []
  },
  {
   "cell_type": "code",
   "execution_count": null,
   "metadata": {
    "ExecuteTime": {
     "end_time": "2019-08-26T06:57:31.615071Z",
     "start_time": "2019-08-26T06:57:30.661449Z"
    }
   },
   "outputs": [],
   "source": [
    "b = label(img)\n",
    "print(np.unique(b))\n",
    "plt.imshow(b)"
   ]
  },
  {
   "cell_type": "code",
   "execution_count": null,
   "metadata": {
    "ExecuteTime": {
     "end_time": "2019-08-26T07:01:14.253476Z",
     "start_time": "2019-08-26T07:01:14.222753Z"
    }
   },
   "outputs": [],
   "source": [
    "r = regionprops(img)\n",
    "xtl,ytl,xbr,ybr = r[0].bbox"
   ]
  },
  {
   "cell_type": "code",
   "execution_count": null,
   "metadata": {
    "ExecuteTime": {
     "end_time": "2019-08-26T07:11:34.736552Z",
     "start_time": "2019-08-26T07:11:33.626876Z"
    }
   },
   "outputs": [],
   "source": [
    "wt = np.zeros_like(img_raw)\n",
    "wt[xtl:xbr,ytl:ybr] = 255\n",
    "wt = wt*TissueMaskGenerationPatch(slide_img)\n",
    "imshow(wt,whole_tum,img_raw)"
   ]
  },
  {
   "cell_type": "code",
   "execution_count": null,
   "metadata": {
    "ExecuteTime": {
     "end_time": "2019-08-26T07:11:47.727007Z",
     "start_time": "2019-08-26T07:11:47.543335Z"
    }
   },
   "outputs": [],
   "source": [
    "np.unique(img_raw)"
   ]
  },
  {
   "cell_type": "code",
   "execution_count": null,
   "metadata": {
    "ExecuteTime": {
     "end_time": "2019-08-26T07:12:30.506498Z",
     "start_time": "2019-08-26T07:12:30.489604Z"
    }
   },
   "outputs": [],
   "source": [
    "actual_whole_tum = np.sum(whole_tum)/255 \n",
    "pred_whole_tum = np.sum(wt)/255\n",
    "viable_tum = np.sum(img_raw)/255\n",
    "print(actual_whole_tum,pred_whole_tum,viable_tum)\n",
    "print(viable_tum/actual_whole_tum,viable_tum/pred_whole_tum)"
   ]
  },
  {
   "cell_type": "code",
   "execution_count": null,
   "metadata": {
    "ExecuteTime": {
     "end_time": "2019-08-24T09:46:29.266029Z",
     "start_time": "2019-08-24T09:46:27.975233Z"
    },
    "scrolled": false
   },
   "outputs": [],
   "source": [
    "for prop in r:\n",
    "    for a in prop:\n",
    "        print(a,prop[a])"
   ]
  },
  {
   "cell_type": "code",
   "execution_count": null,
   "metadata": {
    "ExecuteTime": {
     "end_time": "2019-08-24T09:47:10.920023Z",
     "start_time": "2019-08-24T09:47:10.560456Z"
    }
   },
   "outputs": [],
   "source": [
    "# Find contours at a constant value of 0.8\n",
    "contours = measure.find_contours(img, 0.8)\n",
    "\n",
    "# Display the image and plot all contours found\n",
    "fig, ax = plt.subplots()\n",
    "ax.imshow(img, interpolation='nearest', cmap=plt.cm.gray)\n",
    "\n",
    "for n, contour in enumerate(contours):\n",
    "    ax.plot(contour[:, 1], contour[:, 0], linewidth=1)\n",
    "\n",
    "ax.axis('image')\n",
    "ax.set_xticks([])\n",
    "ax.set_yticks([])\n",
    "plt.show()"
   ]
  },
  {
   "cell_type": "code",
   "execution_count": null,
   "metadata": {
    "ExecuteTime": {
     "end_time": "2019-08-24T10:18:23.950193Z",
     "start_time": "2019-08-24T10:18:22.766333Z"
    }
   },
   "outputs": [],
   "source": [
    "aa,contours,_ = cv2.findContours(img.astype('uint8'), cv2.RETR_EXTERNAL, cv2.CHAIN_APPROX_NONE)\n",
    "out = np.zeros_like(img)\n",
    "cv2.drawContours(out,contours,-1,255,3)\n",
    "imshow(out,img,aa)"
   ]
  },
  {
   "cell_type": "code",
   "execution_count": null,
   "metadata": {
    "ExecuteTime": {
     "end_time": "2019-08-24T10:22:09.297378Z",
     "start_time": "2019-08-24T10:22:08.943447Z"
    }
   },
   "outputs": [],
   "source": [
    "print(np.unique(out))\n",
    "Image.fromarray(out.astype('uint8'))"
   ]
  },
  {
   "cell_type": "code",
   "execution_count": null,
   "metadata": {},
   "outputs": [],
   "source": []
  }
 ],
 "metadata": {
  "kernelspec": {
   "display_name": "Python 3",
   "language": "python",
   "name": "python3"
  },
  "language_info": {
   "codemirror_mode": {
    "name": "ipython",
    "version": 3
   },
   "file_extension": ".py",
   "mimetype": "text/x-python",
   "name": "python",
   "nbconvert_exporter": "python",
   "pygments_lexer": "ipython3",
   "version": "3.6.9"
  },
  "toc": {
   "base_numbering": 1,
   "nav_menu": {},
   "number_sections": true,
   "sideBar": true,
   "skip_h1_title": false,
   "title_cell": "Table of Contents",
   "title_sidebar": "Contents",
   "toc_cell": false,
   "toc_position": {},
   "toc_section_display": true,
   "toc_window_display": false
  },
  "varInspector": {
   "cols": {
    "lenName": 16,
    "lenType": 16,
    "lenVar": 40
   },
   "kernels_config": {
    "python": {
     "delete_cmd_postfix": "",
     "delete_cmd_prefix": "del ",
     "library": "var_list.py",
     "varRefreshCmd": "print(var_dic_list())"
    },
    "r": {
     "delete_cmd_postfix": ") ",
     "delete_cmd_prefix": "rm(",
     "library": "var_list.r",
     "varRefreshCmd": "cat(var_dic_list()) "
    }
   },
   "types_to_exclude": [
    "module",
    "function",
    "builtin_function_or_method",
    "instance",
    "_Feature"
   ],
   "window_display": false
  }
 },
 "nbformat": 4,
 "nbformat_minor": 2
}
