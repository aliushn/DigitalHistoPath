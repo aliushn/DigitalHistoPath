{
 "cells": [
  {
   "cell_type": "code",
   "execution_count": null,
   "metadata": {
    "ExecuteTime": {
     "end_time": "2019-12-28T10:49:46.032155Z",
     "start_time": "2019-12-28T10:49:45.035514Z"
    }
   },
   "outputs": [],
   "source": [
    "import matplotlib.pyplot as plt\n",
    "from skimage.measure import find_contours, regionprops, label\n",
    "from skimage import io\n",
    "import cv2\n",
    "import numpy as np\n",
    "import skimage\n",
    "import glob\n",
    "from skimage import measure\n",
    "from skimage.morphology import convex_hull_image\n",
    "print(skimage.__version__)\n",
    "import os\n",
    "from PIL import Image\n",
    "from IPython import display\n"
   ]
  },
  {
   "cell_type": "code",
   "execution_count": null,
   "metadata": {
    "ExecuteTime": {
     "end_time": "2019-12-28T10:57:31.121451Z",
     "start_time": "2019-12-28T10:57:31.093515Z"
    },
    "code_folding": []
   },
   "outputs": [],
   "source": [
    " def imsave(*args, **kwargs):\n",
    "     args_list = list(args)\n",
    "     for i in range(len(args_list)):\n",
    "         if type(args_list[i]) != np.ndarray:\n",
    "             print(\"Not a numpy array\")\n",
    "             return 0\n",
    "         if len(args_list[i].shape) == 2:\n",
    "             args_list[i] = np.dstack([args_list[i]]*3)\n",
    "             if args_list[i].max() == 1:\n",
    "                args_list[i] = args_list[i]*255\n",
    "\n",
    "     out_destination = kwargs.get(\"out\",'')\n",
    "#      try:\n",
    "     concatenated_arr = np.concatenate(args_list,axis=1)\n",
    "     im = Image.fromarray(np.uint8(concatenated_arr))\n",
    "#      except Exception as e:\n",
    "#          print(e)\n",
    "#          import ipdb; ipdb.set_trace()\n",
    "#          return 0\n",
    "#      if out_destination:\n",
    "     print(\"Saving to %s\"%(out_destination))\n",
    "     im.save(out_destination)\n",
    "#      else:\n",
    "#         return im\n",
    "\n",
    "def imshow(*args,**kwargs):\n",
    "     \"\"\" Handy function to show multiple plots in on row, possibly with different cmaps and titles\n",
    "     Usage:\n",
    "     imshow(img1, title=\"myPlot\")\n",
    "     imshow(img1,img2, title=['title1','title2'])\n",
    "     imshow(img1,img2, cmap='hot')\n",
    "     imshow(img1,img2,cmap=['gray','Blues']) \"\"\"\n",
    "     cmap = kwargs.get('cmap', 'gray')\n",
    "     title= kwargs.get('title','')\n",
    "     axis_off = kwargs.get('axis_off','')\n",
    "     if len(args)==0:\n",
    "         raise ValueError(\"No images given to imshow\")\n",
    "     elif len(args)==1:\n",
    "         plt.title(title)\n",
    "         plt.imshow(args[0], interpolation='none')\n",
    "     else:\n",
    "         n=len(args)\n",
    "         if type(cmap)==str:\n",
    "             cmap = [cmap]*n\n",
    "         if type(title)==str:\n",
    "             title= [title]*n\n",
    "         plt.figure(figsize=(n*5,10))\n",
    "         for i in range(n):\n",
    "             plt.subplot(1,n,i+1)\n",
    "             plt.title(title[i])\n",
    "             plt.imshow(args[i], cmap[i])\n",
    "             if axis_off:\n",
    "               plt.axis('off')\n",
    "     plt.show()\n",
    "def TissueMaskGenerationPatch(patchRGB):\n",
    "    '''\n",
    "    Returns mask of tissue that obeys the threshold set by paip\n",
    "    '''\n",
    "    r = patchRGB[:,:,0] < 235\n",
    "    g = patchRGB[:,:,1] < 210\n",
    "    b = patchRGB[:,:,2] < 235\n",
    "    tissue_mask = np.logical_or(r,np.logical_or(g,b))\n",
    "    return tissue_mask "
   ]
  },
  {
   "cell_type": "code",
   "execution_count": null,
   "metadata": {},
   "outputs": [],
   "source": [
    "img_paths"
   ]
  },
  {
   "cell_type": "code",
   "execution_count": null,
   "metadata": {},
   "outputs": [],
   "source": [
    "inference_id = 'test_final_final'\n",
    "inference_dir = '../../results/saved_imgs/%s' % inference_id\n",
    "img_paths = glob.glob(os.path.join(inference_dir,'ref_*.png'))\n",
    "img_paths.sort()\n",
    "list_fours = []\n",
    "for i,img_path in enumerate(img_paths):\n",
    "    img = cv2.imread(img_path)\n",
    "    print(type(img))\n",
    "    display.display(imsave(img))\n",
    "    list_fours.append(int(input()))\n",
    "    "
   ]
  },
  {
   "cell_type": "code",
   "execution_count": null,
   "metadata": {
    "ExecuteTime": {
     "end_time": "2019-09-09T19:48:25.521802Z",
     "start_time": "2019-09-09T19:46:39.158620Z"
    },
    "code_folding": [
     0
    ]
   },
   "outputs": [],
   "source": [
    "# Test set calc\n",
    "inference_id = 'test_final_final'\n",
    "inference_dir = '../../results/saved_imgs/%s' % inference_id\n",
    "img_paths = glob.glob(os.path.join(inference_dir,'ref_*.png'))\n",
    "img_paths.sort()\n",
    "list_fours = [4, 4, 4, 4, 4, 4, 4, 4, 4, 5, 5, 5, 5, 5, 5, 5, 5, 5, 5, 5, 5, 5, 5, 5,5, 5, 5, 5, 5, 5, 5, 5, 5, 5, 5, 5, 5, 5, 5, 5]\n",
    "print(list_fours)\n",
    "prediction_csv_path = os.path.join(inference_dir,'prediction.csv')\n",
    "# list_fours = []\n",
    "def save_tumor_burden(img_path,tb):\n",
    "    img_id = img_path.split('/')[-1].split('.')[0].split('_')[1]\n",
    "    print(img_id)\n",
    "    with open(prediction_csv_path,'a') as f:\n",
    "        f.write('%s,%.2f\\n'%(img_id,tb))\n",
    "    \n",
    "with open(prediction_csv_path,'w') as f:\n",
    "    f.write('wsi_id,ratio\\n')\n",
    "    \n",
    "for i,img_path in enumerate(img_paths):\n",
    "    img = cv2.imread(img_path)\n",
    "#     imshow(img,axis_off = True)\n",
    "    x = list_fours[i]\n",
    "    _,w,_ = img.shape\n",
    "    if x == 5:\n",
    "        w = w//x\n",
    "        print(img.shape,w)\n",
    "        viable_mask = np.average(img[:,w*3:w*4,:],axis=2)\n",
    "        slide_img = img[:,4*w:,:]\n",
    "    if x == 4:\n",
    "        w = w//x\n",
    "        print(img.shape,w)\n",
    "        viable_mask = np.average(img[:,w*2:w*3,:],axis=2)\n",
    "        slide_img = img[:,3*w:,:]\n",
    "    \n",
    "    np.place(viable_mask,viable_mask<128,0)\n",
    "    np.place(viable_mask,viable_mask>=128,255)\n",
    "    \n",
    "    viable_mask_morph = viable_mask\n",
    "    img_id = int(img_path.split('/')[-1].split('.')[0].split('_')[1])\n",
    "    kernel = np.ones((20, 20), dtype=np.uint8)\n",
    "    viable_mask_morph = cv2.morphologyEx(viable_mask, cv2.MORPH_CLOSE, kernel)\n",
    "    if img_id<180 and img_id >170:\n",
    "        print('biopsy', img_id)\n",
    "        kernel = np.ones((5, 5), dtype=np.uint8)\n",
    "    else:\n",
    "        kernel = np.ones((15, 15), dtype=np.uint8)\n",
    "    viable_mask_morph = cv2.morphologyEx(viable_mask_morph, cv2.MORPH_OPEN, kernel)\n",
    "    viable_mask_morph = np.uint8(viable_mask_morph)\n",
    "\n",
    "#     print(np.unique(viable_mask_morph))\n",
    "#     r = regionprops(viable_mask_morph)\n",
    "#     print(len(r))\n",
    "#     xtl,ytl,xbr,ybr = r[0].bbox\n",
    "\n",
    "#     wt = np.zeros_like(viable_mask)\n",
    "#     wt[xtl:xbr,ytl:ybr] = 255\n",
    "    convex_hull = np.uint8(convex_hull_image(viable_mask_morph))\n",
    "    wt = np.uint8(convex_hull*TissueMaskGenerationPatch(slide_img))\n",
    "    wt[wt>0] = 255\n",
    "\n",
    "#     imsave(viable_mask_morph,viable_mask,wt,slide_img,axis_off=True)\n",
    "    print(\"saving\")\n",
    "    out_path=os.path.join(inference_dir,'whole_tum_%s.jpeg'%img_path[-7:-4])\n",
    "    print(imsave(wt,out=out_path))\n",
    "#     print(np.unique(wt),np.unique(viable_mask)) \n",
    "#     _, contours, hierarchy = cv2.findContours(convex_hull,cv2.RETR_EXTERNAL, cv2.CHAIN_APPROX_NONE) \n",
    "#     snake = active_contour(gaussian(rgb2gray(slide_img), 3),\n",
    "#                            np.squeeze(contours[0]), alpha=0.15, beta=10, gamma=0.001,max_iterations=30)\n",
    "\n",
    "#     fig = plt.figure(figsize=(7, 7))\n",
    "#     ax = fig.add_subplot(111)\n",
    "#     plt.gray()\n",
    "#     ax.imshow(slide_img)\n",
    "#     ax.plot(init[:, 0], init[:, 1], '--r', lw=3)\n",
    "#     ax.plot(snake[:, 0], snake[:, 1], '-b', lw=3)\n",
    "#     ax.set_xticks([]), ax.set_yticks([])\n",
    "#     ax.axis([0, slide_img.shape[1], slide_img.shape[0], 0])\n",
    "#     plt.show()\n",
    "    \n",
    "    pred_whole_tum = np.sum(wt)\n",
    "    viable_tum = np.sum(viable_mask)\n",
    "    tumor_burden = viable_tum/pred_whole_tum*100\n",
    "    print(tumor_burden)\n",
    "    save_tumor_burden(img_path,tumor_burden)\n",
    "    list_fours.append(x)"
   ]
  },
  {
   "cell_type": "code",
   "execution_count": null,
   "metadata": {
    "ExecuteTime": {
     "end_time": "2019-12-28T11:17:30.530466Z",
     "start_time": "2019-12-28T11:16:54.114196Z"
    },
    "code_folding": []
   },
   "outputs": [],
   "source": [
    "# Training Set calc\n",
    "inference_id = 'train_52'\n",
    "inference_dir = '../../results/saved_imgs/%s' % inference_id\n",
    "img_paths = glob.glob(os.path.join(inference_dir,'ref_*.png'))\n",
    "img_paths.sort()\n",
    "prediction_csv_path = os.path.join(inference_dir,'prediction.csv')\n",
    "# list_fours = []\n",
    "def save_tumor_burden(img_path,tb):\n",
    "    img_id = img_path.split('/')[-1].split('.')[0].split('_')[1]\n",
    "    print(img_id)\n",
    "    with open(prediction_csv_path,'a') as f:\n",
    "        f.write('%s,%.2f\\n'%(img_id,tb))\n",
    "    \n",
    "with open(prediction_csv_path,'w') as f:\n",
    "    f.write('wsi_id,ratio\\n')\n",
    "    \n",
    "for i,img_path in enumerate(img_paths):\n",
    "    img = cv2.imread(img_path)\n",
    "    img = cv2.cvtColor(img, cv2.COLOR_BGR2RGB)\n",
    "#     imshow(img,axis_off = True)\n",
    "    h,w,_ = img.shape\n",
    "    w = w//5\n",
    "    print(img.shape,w)\n",
    "    viable_mask = np.average(img[:,w*2:w*3,:],axis=2)\n",
    "    slide_img = img[:,4*w:,:]\n",
    "    \n",
    "    np.place(viable_mask,viable_mask<128,0)\n",
    "    np.place(viable_mask,viable_mask>=128,255)\n",
    "    \n",
    "    viable_mask_morph = viable_mask\n",
    "    kernel = np.ones((20, 20), dtype=np.uint8)\n",
    "    viable_mask_morph = cv2.morphologyEx(viable_mask, cv2.MORPH_CLOSE, kernel)\n",
    "    kernel = np.ones((15, 15), dtype=np.uint8)\n",
    "    viable_mask_morph = cv2.morphologyEx(viable_mask_morph, cv2.MORPH_OPEN, kernel)\n",
    "    viable_mask_morph = np.uint8(viable_mask_morph)\n",
    "\n",
    "#     print(np.unique(viable_mask_morph))\n",
    "#     r = regionprops(viable_mask_morph)\n",
    "#     print(len(r))\n",
    "#     xtl,ytl,xbr,ybr = r[0].bbox\n",
    "\n",
    "#     wt = np.zeros_like(viable_mask)\n",
    "#     wt[xtl:xbr,ytl:ybr] = 255\n",
    "    convex_hull = np.uint8(convex_hull_image(viable_mask_morph))\n",
    "    wt = np.uint8(convex_hull*TissueMaskGenerationPatch(slide_img))\n",
    "    wt[wt>0] = 255\n",
    "\n",
    "#     imsave(viable_mask_morph,viable_mask,wt,slide_img,axis_off=True)\n",
    "    print(\"saving\")\n",
    "    sample_id = os.path.basename(img_path)[4:-4]\n",
    "    out_path=os.path.join(inference_dir,'whole_tum_%s.jpeg'%sample_id)\n",
    "    \n",
    "    ref_img = np.transpose(cv2.imread('../../data/raw-data/ref_imgs/%s_ref.png'%sample_id),[1,0,2])\n",
    "    gt = np.average(ref_img[h*2:h*3,:,:],axis=2)\n",
    "    print(img.shape)\n",
    "    print(ref_img.shape)\n",
    "    print(gt.shape)\n",
    "    print(wt.shape)\n",
    "    print(viable_mask.shape)\n",
    "    print(imsave(viable_mask,wt,gt,out=out_path))\n",
    "#     print(np.unique(wt),np.unique(viable_mask)) \n",
    "#     _, contours, hierarchy = cv2.findContours(convex_hull,cv2.RETR_EXTERNAL, cv2.CHAIN_APPROX_NONE) \n",
    "#     snake = active_contour(gaussian(rgb2gray(slide_img), 3),\n",
    "#                            np.squeeze(contours[0]), alpha=0.15, beta=10, gamma=0.001,max_iterations=30)\n",
    "\n",
    "#     fig = plt.figure(figsize=(7, 7))\n",
    "#     ax = fig.add_subplot(111)\n",
    "#     plt.gray()\n",
    "#     ax.imshow(slide_img)\n",
    "#     ax.plot(init[:, 0], init[:, 1], '--r', lw=3)\n",
    "#     ax.plot(snake[:, 0], snake[:, 1], '-b', lw=3)\n",
    "#     ax.set_xticks([]), ax.set_yticks([])\n",
    "#     ax.axis([0, slide_img.shape[1], slide_img.shape[0], 0])\n",
    "#     plt.show()\n",
    "    \n",
    "    pred_whole_tum = np.sum(wt)\n",
    "    viable_tum = np.sum(viable_mask)\n",
    "    tumor_burden = viable_tum/pred_whole_tum*100\n",
    "    print(tumor_burden)\n",
    "    save_tumor_burden(img_path,tumor_burden)"
   ]
  },
  {
   "cell_type": "code",
   "execution_count": null,
   "metadata": {},
   "outputs": [],
   "source": [
    "os.path.join(inference_dir,'whole_tum_%d.png'%i)"
   ]
  },
  {
   "cell_type": "code",
   "execution_count": null,
   "metadata": {
    "ExecuteTime": {
     "end_time": "2019-09-09T19:36:13.374405Z",
     "start_time": "2019-09-09T19:36:13.365532Z"
    }
   },
   "outputs": [],
   "source": [
    "np.squeeze(contours[0]).shape"
   ]
  },
  {
   "cell_type": "code",
   "execution_count": null,
   "metadata": {
    "ExecuteTime": {
     "end_time": "2019-09-09T19:26:12.184603Z",
     "start_time": "2019-09-09T19:26:11.610287Z"
    }
   },
   "outputs": [],
   "source": [
    "import numpy as np\n",
    "import matplotlib.pyplot as plt\n",
    "from skimage.color import rgb2gray\n",
    "from skimage import data\n",
    "from skimage.filters import gaussian\n",
    "from skimage.segmentation import active_contour\n",
    "\n",
    "# Test scipy version, since active contour is only possible\n",
    "# with recent scipy version\n",
    "import scipy\n",
    "split_version = scipy.__version__.split('.')\n",
    "if not(split_version[-1].isdigit()): # Remove dev string if present\n",
    "        split_version.pop()\n",
    "scipy_version = list(map(int, split_version))\n",
    "new_scipy = scipy_version[0] > 0 or \\\n",
    "            (scipy_version[0] == 0 and scipy_version[1] >= 14)\n",
    "\n",
    "img = data.astronaut()\n",
    "img = rgb2gray(img)\n",
    "\n",
    "s = np.linspace(0, 2*np.pi, 400)\n",
    "x = 220 + 100*np.cos(s)\n",
    "y = 100 + 100*np.sin(s)\n",
    "init = np.array([x, y]).T\n",
    "\n",
    "if not new_scipy:\n",
    "    print('You are using an old version of scipy. '\n",
    "          'Active contours is implemented for scipy versions '\n",
    "          '0.14.0 and above.')\n",
    "\n",
    "if new_scipy:\n",
    "    snake = active_contour(gaussian(img, 3),\n",
    "                           init, alpha=0.015, beta=10, gamma=0.001)\n",
    "\n",
    "    fig = plt.figure(figsize=(7, 7))\n",
    "    ax = fig.add_subplot(111)\n",
    "    plt.gray()\n",
    "    ax.imshow(img)\n",
    "    ax.plot(init[:, 0], init[:, 1], '--r', lw=3)\n",
    "    ax.plot(snake[:, 0], snake[:, 1], '-b', lw=3)\n",
    "    ax.set_xticks([]), ax.set_yticks([])\n",
    "    ax.axis([0, img.shape[1], img.shape[0], 0])"
   ]
  },
  {
   "cell_type": "code",
   "execution_count": null,
   "metadata": {
    "ExecuteTime": {
     "end_time": "2019-09-09T18:03:17.929209Z",
     "start_time": "2019-09-09T18:03:17.925875Z"
    }
   },
   "outputs": [],
   "source": [
    "len(list_fours)"
   ]
  },
  {
   "cell_type": "code",
   "execution_count": null,
   "metadata": {
    "ExecuteTime": {
     "end_time": "2019-08-26T06:57:31.615071Z",
     "start_time": "2019-08-26T06:57:30.661449Z"
    }
   },
   "outputs": [],
   "source": [
    "b = label(img)\n",
    "print(np.unique(b))\n",
    "plt.imshow(b)"
   ]
  },
  {
   "cell_type": "code",
   "execution_count": null,
   "metadata": {
    "ExecuteTime": {
     "end_time": "2019-08-26T07:11:47.727007Z",
     "start_time": "2019-08-26T07:11:47.543335Z"
    }
   },
   "outputs": [],
   "source": [
    "np.unique(img_raw)"
   ]
  },
  {
   "cell_type": "code",
   "execution_count": null,
   "metadata": {
    "ExecuteTime": {
     "end_time": "2019-08-26T07:12:30.506498Z",
     "start_time": "2019-08-26T07:12:30.489604Z"
    }
   },
   "outputs": [],
   "source": [
    "actual_whole_tum = np.sum(whole_tum)/255 \n",
    "pred_whole_tum = np.sum(wt)/255\n",
    "viable_tum = np.sum(img_raw)/255\n",
    "print(actual_whole_tum,pred_whole_tum,viable_tum)\n",
    "print(viable_tum/actual_whole_tum,viable_tum/pred_whole_tum)"
   ]
  },
  {
   "cell_type": "code",
   "execution_count": null,
   "metadata": {
    "ExecuteTime": {
     "end_time": "2019-08-24T09:46:29.266029Z",
     "start_time": "2019-08-24T09:46:27.975233Z"
    },
    "scrolled": false
   },
   "outputs": [],
   "source": [
    "for prop in r:\n",
    "    for a in prop:\n",
    "        print(a,prop[a])"
   ]
  },
  {
   "cell_type": "code",
   "execution_count": null,
   "metadata": {
    "ExecuteTime": {
     "end_time": "2019-08-24T09:47:10.920023Z",
     "start_time": "2019-08-24T09:47:10.560456Z"
    }
   },
   "outputs": [],
   "source": [
    "# Find contours at a constant value of 0.8\n",
    "contours = measure.find_contours(img, 0.8)\n",
    "\n",
    "# Display the image and plot all contours found\n",
    "fig, ax = plt.subplots()\n",
    "ax.imshow(img, interpolation='nearest', cmap=plt.cm.gray)\n",
    "\n",
    "for n, contour in enumerate(contours):\n",
    "    ax.plot(contour[:, 1], contour[:, 0], linewidth=1)\n",
    "\n",
    "ax.axis('image')\n",
    "ax.set_xticks([])\n",
    "ax.set_yticks([])\n",
    "plt.show()"
   ]
  },
  {
   "cell_type": "code",
   "execution_count": null,
   "metadata": {
    "ExecuteTime": {
     "end_time": "2019-08-24T10:18:23.950193Z",
     "start_time": "2019-08-24T10:18:22.766333Z"
    }
   },
   "outputs": [],
   "source": [
    "aa,contours,_ = cv2.findContours(img.astype('uint8'), cv2.RETR_EXTERNAL, cv2.CHAIN_APPROX_NONE)\n",
    "out = np.zeros_like(img)\n",
    "cv2.drawContours(out,contours,-1,255,3)\n",
    "imshow(out,img,aa)"
   ]
  },
  {
   "cell_type": "code",
   "execution_count": null,
   "metadata": {
    "ExecuteTime": {
     "end_time": "2019-08-24T10:22:09.297378Z",
     "start_time": "2019-08-24T10:22:08.943447Z"
    }
   },
   "outputs": [],
   "source": [
    "print(np.unique(out))\n",
    "Image.fromarray(out.astype('uint8'))"
   ]
  },
  {
   "cell_type": "code",
   "execution_count": null,
   "metadata": {},
   "outputs": [],
   "source": []
  }
 ],
 "metadata": {
  "kernelspec": {
   "display_name": "Python 3",
   "language": "python",
   "name": "python3"
  },
  "language_info": {
   "codemirror_mode": {
    "name": "ipython",
    "version": 3
   },
   "file_extension": ".py",
   "mimetype": "text/x-python",
   "name": "python",
   "nbconvert_exporter": "python",
   "pygments_lexer": "ipython3",
   "version": "3.7.4"
  },
  "toc": {
   "base_numbering": 1,
   "nav_menu": {},
   "number_sections": true,
   "sideBar": true,
   "skip_h1_title": false,
   "title_cell": "Table of Contents",
   "title_sidebar": "Contents",
   "toc_cell": false,
   "toc_position": {},
   "toc_section_display": true,
   "toc_window_display": false
  },
  "varInspector": {
   "cols": {
    "lenName": 16,
    "lenType": 16,
    "lenVar": 40
   },
   "kernels_config": {
    "python": {
     "delete_cmd_postfix": "",
     "delete_cmd_prefix": "del ",
     "library": "var_list.py",
     "varRefreshCmd": "print(var_dic_list())"
    },
    "r": {
     "delete_cmd_postfix": ") ",
     "delete_cmd_prefix": "rm(",
     "library": "var_list.r",
     "varRefreshCmd": "cat(var_dic_list()) "
    }
   },
   "types_to_exclude": [
    "module",
    "function",
    "builtin_function_or_method",
    "instance",
    "_Feature"
   ],
   "window_display": false
  }
 },
 "nbformat": 4,
 "nbformat_minor": 2
}
